{
 "cells": [
  {
   "cell_type": "markdown",
   "metadata": {},
   "source": [
    "#ELAN project"
   ]
  },
  {
   "cell_type": "markdown",
   "metadata": {},
   "source": [
    "*ELAN is  is a tool for the creation of complex annotations on video and audio data. Since I am interested in sign languages, this kind of annotations are desired to be somehow incorporated in Python. The topic of my term paper might be \"The simultanious constructions in Russian Sign Language\", so the purpose of the project was to write a programm which exports all such constructions from the RSL corpus. The attempt to do it with at least one eaf. file is presented below*."
   ]
  },
  {
   "cell_type": "markdown",
   "metadata": {},
   "source": [
    "Import pypmi - Python library for Elan data and initializing the eaf. file:"
   ]
  },
  {
   "cell_type": "code",
   "execution_count": null,
   "metadata": {},
   "outputs": [],
   "source": [
    "import pympi\n",
    "elan_file_path = 'C:\\\\Users\\\\Lenovo\\\\Desktop\\\\rufa.eaf'\n",
    "eaf = pympi.Elan.Eaf('C:\\\\Users\\\\Lenovo\\\\Desktop\\\\rufa.eaf')"
   ]
  },
  {
   "cell_type": "markdown",
   "metadata": {},
   "source": [
    "Assign values for lists of tiers' annotations of the tuple form: ('begin', 'end', 'value'). The lists of annotations are given by the command from pympi module:"
   ]
  },
  {
   "cell_type": "code",
   "execution_count": null,
   "metadata": {},
   "outputs": [],
   "source": [
    "pr = eaf.get_annotation_data_for_tier('pr-gloss')\n",
    "lr = eaf.get_annotation_data_for_tier('lr-gloss')\n",
    "tr = eaf.get_annotation_data_for_tier('translation')"
   ]
  },
  {
   "cell_type": "markdown",
   "metadata": {},
   "source": [
    "Having run the programm we will need a counter to see the number of cycles it runs (just useful value):"
   ]
  },
  {
   "cell_type": "code",
   "execution_count": null,
   "metadata": {},
   "outputs": [],
   "source": [
    "counter = 1"
   ]
  },
  {
   "cell_type": "markdown",
   "metadata": {},
   "source": [
    "Assign values for the tuple's elements in the tier for the left hand. Since the tuples give us strings, we use int to format str. Later it will be possible to write a condition and contrast tuples' int values:"
   ]
  },
  {
   "cell_type": "code",
   "execution_count": null,
   "metadata": {},
   "outputs": [],
   "source": [
    "for l in lr:\n",
    "    print(counter)\n",
    "    start = int(l[0])\n",
    "    end = int(l[1])\n",
    "    gloss = l[2]"
   ]
  },
  {
   "cell_type": "markdown",
   "metadata": {},
   "source": [
    "Assign values for tuple's elements in the tier for the right hand:"
   ]
  },
  {
   "cell_type": "code",
   "execution_count": null,
   "metadata": {},
   "outputs": [],
   "source": [
    "    for p in pr:\n",
    "        start2 = int(p[0])\n",
    "        end2 = int(p[1])\n",
    "        gloss2 = p[2]"
   ]
  },
  {
   "cell_type": "markdown",
   "metadata": {},
   "source": [
    "Now we need a number of conditions. The first *if* prescribes the condition for two layers and the glosses' timespans in eaf. file. In result we want to contrast only those glosses which \n",
    "a) start in the same time \n",
    "b) gloss in the left hand layer must be the same or longer \n",
    "c) glosses must contain different lexemes:"
   ]
  },
  {
   "cell_type": "code",
   "execution_count": null,
   "metadata": {},
   "outputs": [],
   "source": [
    "        if start == start2 and end >= end2 and gloss != gloss2:"
   ]
  },
  {
   "cell_type": "markdown",
   "metadata": {},
   "source": [
    "We do not need to see the output that the previous condition gives. Thus, the next *if* is for the target layer \"translation\". We need the glosses of the translation layer which correspond to the previously founded glosses in the left and right hand layers. Note, that its glosses are obvioiusly longer than the left and right hand layers. Hence, for the element in the sequence of items of the translation layer its start time must be equal to the \"zero\" element in the layer. If this element is shorter than the sequence of the layer items, the start time of the next gloss will be the lenght of the previous item +1. The code after *else* defines boundaries of the gloss in translation layer and this is the exact output we need. "
   ]
  },
  {
   "cell_type": "code",
   "execution_count": 1,
   "metadata": {},
   "outputs": [
    {
     "ename": "NameError",
     "evalue": "name 'tr' is not defined",
     "output_type": "error",
     "traceback": [
      "\u001b[1;31m---------------------------------------------------------------------------\u001b[0m",
      "\u001b[1;31mNameError\u001b[0m                                 Traceback (most recent call last)",
      "\u001b[1;32m<ipython-input-1-3981de1d3ff9>\u001b[0m in \u001b[0;36m<module>\u001b[1;34m()\u001b[0m\n\u001b[1;32m----> 1\u001b[1;33m \u001b[1;32mfor\u001b[0m \u001b[0mi\u001b[0m \u001b[1;32min\u001b[0m \u001b[0mrange\u001b[0m\u001b[1;33m(\u001b[0m\u001b[0mlen\u001b[0m\u001b[1;33m(\u001b[0m\u001b[0mtr\u001b[0m\u001b[1;33m)\u001b[0m\u001b[1;33m)\u001b[0m\u001b[1;33m:\u001b[0m\u001b[1;33m\u001b[0m\u001b[0m\n\u001b[0m\u001b[0;32m      2\u001b[0m     \u001b[0mstart3\u001b[0m \u001b[1;33m=\u001b[0m \u001b[0mint\u001b[0m\u001b[1;33m(\u001b[0m\u001b[0mtr\u001b[0m\u001b[1;33m[\u001b[0m\u001b[0mi\u001b[0m\u001b[1;33m]\u001b[0m\u001b[1;33m[\u001b[0m\u001b[1;36m0\u001b[0m\u001b[1;33m]\u001b[0m\u001b[1;33m)\u001b[0m\u001b[1;33m\u001b[0m\u001b[0m\n\u001b[0;32m      3\u001b[0m     \u001b[1;32mif\u001b[0m \u001b[0mi\u001b[0m \u001b[1;33m<\u001b[0m \u001b[0mlen\u001b[0m\u001b[1;33m(\u001b[0m\u001b[0mtr\u001b[0m\u001b[1;33m)\u001b[0m \u001b[1;33m-\u001b[0m \u001b[1;36m1\u001b[0m\u001b[1;33m:\u001b[0m\u001b[1;33m\u001b[0m\u001b[0m\n\u001b[0;32m      4\u001b[0m         \u001b[0mnext_start\u001b[0m \u001b[1;33m=\u001b[0m \u001b[0mint\u001b[0m\u001b[1;33m(\u001b[0m\u001b[0mtr\u001b[0m\u001b[1;33m[\u001b[0m\u001b[0mi\u001b[0m\u001b[1;33m+\u001b[0m\u001b[1;36m1\u001b[0m\u001b[1;33m]\u001b[0m\u001b[1;33m[\u001b[0m\u001b[1;36m0\u001b[0m\u001b[1;33m]\u001b[0m\u001b[1;33m)\u001b[0m\u001b[1;33m\u001b[0m\u001b[0m\n\u001b[0;32m      5\u001b[0m     \u001b[1;32melse\u001b[0m\u001b[1;33m:\u001b[0m\u001b[1;33m\u001b[0m\u001b[0m\n",
      "\u001b[1;31mNameError\u001b[0m: name 'tr' is not defined"
     ]
    }
   ],
   "source": [
    "            for i in range(len(tr)):\n",
    "                start3 = int(tr[i][0])\n",
    "                if i < len(tr) - 1:\n",
    "                    next_start = int(tr[i+1][0])\n",
    "                else:\n",
    "                    next_start = int(tr[i][1])\n",
    "                if start3 <= start and next_start >= end :\n",
    "                    print(tr[i][2])\n",
    "    counter +=1"
   ]
  },
  {
   "cell_type": "code",
   "execution_count": null,
   "metadata": {},
   "outputs": [],
   "source": []
  },
  {
   "cell_type": "code",
   "execution_count": null,
   "metadata": {},
   "outputs": [],
   "source": []
  }
 ],
 "metadata": {
  "kernelspec": {
   "display_name": "Python 3",
   "language": "python",
   "name": "python3"
  },
  "language_info": {
   "codemirror_mode": {
    "name": "ipython",
    "version": 3
   },
   "file_extension": ".py",
   "mimetype": "text/x-python",
   "name": "python",
   "nbconvert_exporter": "python",
   "pygments_lexer": "ipython3",
   "version": "3.7.0"
  }
 },
 "nbformat": 4,
 "nbformat_minor": 2
}
