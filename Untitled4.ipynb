{
 "cells": [
  {
   "cell_type": "code",
   "execution_count": 32,
   "metadata": {},
   "outputs": [],
   "source": [
    "import urllib.request\n",
    "import re\n",
    "req = urllib.request.Request('https://habr.com/')\n",
    "with urllib.request.urlopen(req) as response:\n",
    "   html = response.read().decode('utf-8')"
   ]
  },
  {
   "cell_type": "code",
   "execution_count": 33,
   "metadata": {},
   "outputs": [
    {
     "name": "stdout",
     "output_type": "stream",
     "text": [
      "<!DOCTYPE html>\n",
      "<html lang=\"ru\" class=\"no-js\">\n",
      "  <head>\n",
      "    <meta http-equiv=\"content-type\" content=\"text/html; charset=utf-8\" />\n",
      "<meta content='width=1024' name='viewport'>\n",
      "<title>Лучшие публикации за сутки / \n"
     ]
    }
   ],
   "source": [
    "print(html[:210])"
   ]
  },
  {
   "cell_type": "code",
   "execution_count": 34,
   "metadata": {},
   "outputs": [],
   "source": [
    "url = 'https://habr.com/'\n",
    "user_agent = 'Mozilla/5.0' \n",
    "req = urllib.request.Request(url, headers={'User-Agent':user_agent})  \n",
    "\n",
    "with urllib.request.urlopen(req) as response:\n",
    "   html = response.read().decode('utf-8')"
   ]
  },
  {
   "cell_type": "code",
   "execution_count": 35,
   "metadata": {},
   "outputs": [
    {
     "name": "stdout",
     "output_type": "stream",
     "text": [
      "<!DOCTYPE html>\n",
      "<html lang=\"ru\" class=\"no-js\">\n",
      "  <head>\n",
      "    <meta http-equiv=\"content-type\" content=\"text/html; charset=utf-8\" />\n",
      "<meta content='width=1024' name='viewport'>\n",
      "<title>Лучшие публикации за сутки / \n"
     ]
    }
   ],
   "source": [
    "print(html[:210])"
   ]
  },
  {
   "cell_type": "markdown",
   "metadata": {},
   "source": [
    "<h2 class=\"post__title\">\n",
    "    <a href=\"https://habr.com/company/google/blog/425279/\" class=\"post__title_link\">Как собеседует Google: чему быть, чего не миновать</a>\n",
    "  </h2>"
   ]
  },
  {
   "cell_type": "code",
   "execution_count": 36,
   "metadata": {},
   "outputs": [],
   "source": [
    "regPostTitle = re.compile('<h2 class=\"post__title\">.*?</h2>', flags= re.DOTALL)\n",
    "titles = regPostTitle.findall(html)"
   ]
  },
  {
   "cell_type": "code",
   "execution_count": 37,
   "metadata": {},
   "outputs": [
    {
     "name": "stdout",
     "output_type": "stream",
     "text": [
      "20\n"
     ]
    }
   ],
   "source": [
    "print(len(titles))"
   ]
  },
  {
   "cell_type": "code",
   "execution_count": 38,
   "metadata": {},
   "outputs": [
    {
     "name": "stdout",
     "output_type": "stream",
     "text": [
      "['<h2 class=\"post__title\">\\n    <a href=\"https://habr.com/company/tuturu/blog/425231/\" class=\"post__title_link\">FAQ про работу стюардессы</a>\\n  </h2>', '<h2 class=\"post__title\">\\n    <a href=\"https://habr.com/post/425261/\" class=\"post__title_link\">EV-сертификаты мертвы</a>\\n  </h2>', '<h2 class=\"post__title\">\\n    <a href=\"https://habr.com/post/425285/\" class=\"post__title_link\">Если вы не нанимаете джунов, то не заслуживаете сеньоров</a>\\n  </h2>']\n"
     ]
    }
   ],
   "source": [
    "print(titles[:3])"
   ]
  },
  {
   "cell_type": "code",
   "execution_count": 39,
   "metadata": {},
   "outputs": [
    {
     "name": "stdout",
     "output_type": "stream",
     "text": [
      "FAQ про работу стюардессы\n",
      "EV-сертификаты мертвы\n",
      "Если вы не нанимаете джунов, то не заслуживаете сеньоров\n",
      "Демпинг Маска: миф или реальность\n",
      "Как собеседует Google: чему быть, чего не миновать\n",
      "Интерпретаторы байт-кодов своими руками\n",
      "Из Android-разработчика в DevOps\n",
      "Как устроено шоу The Chemical Brothers: технические детали и коммутация\n",
      "Бесконечная локализация, или как мы переводим карту в режиме реального времени\n",
      "Тринадцать вещей, которые предвидел Лем\n",
      "10 лучших VS Code-расширений 2018 года для фронтенд-разработчиков\n",
      "Обзор конференции droidcon Vienna\n",
      "Делаем проект по машинному обучению на Python. Часть 1\n",
      "Китайцы использовали микрочип, чтобы контролировать американские компьютеры\n",
      "Алгоритм сжатия без потерь Broo и дельта-кодирование, сравнение с Xdelta3. Развитие домашнего проекта\n",
      "Оценка стоимости проекта внедрения IdM — как предусмотреть неожиданности\n",
      "Дайджест продуктового дизайна, сентябрь 2018\n",
      "Конференция DEFCON 22. Группа GTVHacker. Взламываем всё: 20 устройств за 45 минут. Часть 2\n",
      "Программисты своими руками лишают себя работы\n",
      "Как проходит знакомство с LLP в Университете ИТМО: курс «Низкоуровневое программирование» ",
      "\n"
     ]
    }
   ],
   "source": [
    "new_titles = []\n",
    "regTag = re.compile('<.*?>', re.DOTALL)\n",
    "regSpace = re.compile('\\s{2,}', re.DOTALL)\n",
    "for t in titles:\n",
    "    clean_t = regSpace.sub(\"\", t)\n",
    "    clean_t = regTag.sub(\"\", clean_t)\n",
    "    new_titles.append(clean_t)\n",
    "for t in new_titles:\n",
    "    print(t)"
   ]
  },
  {
   "cell_type": "code",
   "execution_count": 40,
   "metadata": {},
   "outputs": [
    {
     "name": "stdout",
     "output_type": "stream",
     "text": [
      "FAQ про работу стюардессы\n",
      "EV-сертификаты мертвы\n",
      "Если вы не нанимаете джунов, то не заслуживаете сеньоров\n",
      "Демпинг Маска: миф или реальность\n",
      "Как собеседует Google: чему быть, чего не миновать\n",
      "Интерпретаторы байт-кодов своими руками\n",
      "Из Android-разработчика в DevOps\n",
      "Как устроено шоу The Chemical Brothers: технические детали и коммутация\n",
      "Бесконечная локализация, или как мы переводим карту в режиме реального времени\n",
      "Тринадцать вещей, которые предвидел Лем\n",
      "10 лучших VS Code-расширений 2018 года для фронтенд-разработчиков\n",
      "Обзор конференции droidcon Vienna\n",
      "Делаем проект по машинному обучению на Python. Часть 1\n",
      "Китайцы использовали микрочип, чтобы контролировать американские компьютеры\n",
      "Алгоритм сжатия без потерь Broo и дельта-кодирование, сравнение с Xdelta3. Развитие домашнего проекта\n",
      "Оценка стоимости проекта внедрения IdM — как предусмотреть неожиданности\n",
      "Дайджест продуктового дизайна, сентябрь 2018\n",
      "Конференция DEFCON 22. Группа GTVHacker. Взламываем всё: 20 устройств за 45 минут. Часть 2\n",
      "Программисты своими руками лишают себя работы\n",
      "Как проходит знакомство с LLP в Университете ИТМО: курс «Низкоуровневое программирование» ",
      "\n"
     ]
    }
   ],
   "source": [
    "for t in new_titles:\n",
    "    print(t.replace(\"&nbsp;&rarr;\", \" -> \"))"
   ]
  }
 ],
 "metadata": {
  "kernelspec": {
   "display_name": "Python 3",
   "language": "python",
   "name": "python3"
  },
  "language_info": {
   "codemirror_mode": {
    "name": "ipython",
    "version": 3
   },
   "file_extension": ".py",
   "mimetype": "text/x-python",
   "name": "python",
   "nbconvert_exporter": "python",
   "pygments_lexer": "ipython3",
   "version": "3.6.5"
  }
 },
 "nbformat": 4,
 "nbformat_minor": 2
}
