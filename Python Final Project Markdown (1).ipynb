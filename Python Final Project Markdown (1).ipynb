{
 "cells": [
  {
   "cell_type": "markdown",
   "metadata": {},
   "source": [
    "**Dictionary**"
   ]
  },
  {
   "cell_type": "markdown",
   "metadata": {},
   "source": [
    "D = {'фигушки':'Adjective used to express rejection', 'рулить':'Verb used to positively describe a band',\n",
    "     'лайковать':'Verb used on Facebook to mean \"To Like\"','холивар':'Noun to describe a large online argument',\n",
    "     'хайпить':'Verb to describe how much \"Hype\" something deserves','зашквар':'Noun similar to \"Lame\"',\n",
    "     'морозиться':'Verb used to describe \"Ghosting\" someone','тупить':'Verb used to describe zoning out',\n",
    "     'лохануться':'Verb to describe a situation you messed up','понт':'Noun meaning arrogance or boasting'}\n"
   ]
  },
  {
   "cell_type": "markdown",
   "metadata": {},
   "source": [
    "**Introductory Message**"
   ]
  },
  {
   "cell_type": "markdown",
   "metadata": {},
   "source": [
    "print('Добро Пожаловать! Вот это Русский Словарь Слэнга. \\n Словарь состоит',len(D.items()),' элементов сейчас.')\n",
    "command = '0'"
   ]
  },
  {
   "cell_type": "markdown",
   "metadata": {},
   "source": [
    "**Initial Command**"
   ]
  },
  {
   "cell_type": "markdown",
   "metadata": {},
   "source": [
    "while command is '0':\n",
    "    command = input('__________________________________ \\n Хорошо, что вы хотите сделать: \\n 1 - Найти в Словаре \\n 2 - Введите Новое Слово \\n 3 - Удалить Слово \\n 4 - Слово Дня \\n 5 - Посмотреть в словаре \\n 6 - Длина Словаря \\n Пожалуйста, введите номер: ')"
   ]
  },
  {
   "cell_type": "markdown",
   "metadata": {},
   "source": [
    "**First Option**"
   ]
  },
  {
   "cell_type": "markdown",
   "metadata": {},
   "source": [
    "if command is '1':\n",
    "        test = input('Введите слово в нижнем регистре для проверки: ')\n",
    "        \n",
    "        if test in D.keys():\n",
    "            print('Поздравляю вас, мы нашли \"',test,'\" в словаре.')\n",
    "            view = input('Вы хотите посмотреть определение? \\n Введите 1 если да. Елси нет, введите любую букву: ')\n",
    "        \n",
    "            if view is '1': print('\\n Слово: \"',test,'\"\\n Определение: ',D[test])\n",
    "            \n",
    "            command = '0'\n",
    "            \n",
    "        else:\n",
    "            print('К сожалению, у нас нет этого слова \"',test,'\" в словаре.')\n",
    "            command = input('Введите 1 если вы хотите добавить слово, или, если нет, введите любую букву: ')\n",
    "            \n",
    "            if command is '1':\n",
    "                print('Пожалуйста, введите определение \"',test,'\" по-Английски: ')\n",
    "                newvalue = input()\n",
    "                D[test] = newvalue\n",
    "                print('Большое Спасибо! Теперь это слово есть в нашем словаре: \\n Слово: ',test,'\\n Определение: ',newvalue)\n",
    "                command = '0'\n",
    "                \n",
    "        command = '0'"
   ]
  },
  {
   "cell_type": "markdown",
   "metadata": {},
   "source": [
    "**Second Option**"
   ]
  },
  {
   "cell_type": "markdown",
   "metadata": {},
   "source": [
    "if command is '2':\n",
    "        newkey = input('Введите слово в нижнем регистре: ')\n",
    "        print('Пожалуйста, введите определение \"',newkey,'\" по-Английски: ')\n",
    "        newvalue = input()\n",
    "        D.update({newkey: newvalue})\n",
    "        print('Большое Спасибо! Теперь это слово есть в нашем словаре: \\n Слово: ',newkey,'\\n Определение: ',newvalue)\n",
    "        command = '0'"
   ]
  },
  {
   "cell_type": "markdown",
   "metadata": {},
   "source": [
    "**Third Option**"
   ]
  },
  {
   "cell_type": "markdown",
   "metadata": {},
   "source": [
    "    if command is '3':\n",
    "        keyout = input('Введите слово которое вы хотите удалить: ')\n",
    "        if keyout in D.keys():\n",
    "            del D[keyout]\n",
    "            print('Слово \"',keyout,'\" было удалено!')\n",
    "            \n",
    "        else: print('Извините, мы не смогли найти это слово')\n",
    "        command = '0'"
   ]
  },
  {
   "cell_type": "markdown",
   "metadata": {},
   "source": [
    "**Fourth Option**"
   ]
  },
  {
   "cell_type": "markdown",
   "metadata": {},
   "source": [
    "    if command is '4':\n",
    "        command = input('Вы уверены, что хотите Слово Дня? Введите 1 если да: ')\n",
    "        \n",
    "        if command is '1':\n",
    "            print(\"Сегодня, Слово Дня:\")\n",
    "            print(D.popitem())\n",
    "        command = '0'"
   ]
  },
  {
   "cell_type": "markdown",
   "metadata": {},
   "source": [
    "**Fifth Option**"
   ]
  },
  {
   "cell_type": "markdown",
   "metadata": {},
   "source": [
    "    if command is '5':\n",
    "        command = input('Вы уверены, что хотите посмотреть в словаре? Введите 1 если да: ')\n",
    "        \n",
    "        if command is '1':\n",
    "            for key,value in D.items():\n",
    "                print(key + \" : \" + value)\n",
    "\n",
    "        command = '0'"
   ]
  },
  {
   "cell_type": "markdown",
   "metadata": {},
   "source": [
    "**Sixth Option**"
   ]
  },
  {
   "cell_type": "markdown",
   "metadata": {},
   "source": [
    "   if command is '6':\n",
    "        command = input('Вы уверены, что хотите Длина Словаря? Введите 1 если да: ')\n",
    "        \n",
    "        if command is '1':\n",
    "            print('Длина Словаря:')\n",
    "            print(len(D))\n",
    "        \n",
    "        command = '0'"
   ]
  }
 ],
 "metadata": {
  "kernelspec": {
   "display_name": "Python 3",
   "language": "python",
   "name": "python3"
  },
  "language_info": {
   "codemirror_mode": {
    "name": "ipython",
    "version": 3
   },
   "file_extension": ".py",
   "mimetype": "text/x-python",
   "name": "python",
   "nbconvert_exporter": "python",
   "pygments_lexer": "ipython3",
   "version": "3.6.5"
  }
 },
 "nbformat": 4,
 "nbformat_minor": 2
}
