{
 "cells": [
  {
   "cell_type": "code",
   "execution_count": 1,
   "metadata": {},
   "outputs": [
    {
     "name": "stdout",
     "output_type": "stream",
     "text": [
      "30\n",
      "19thcentury\n",
      "2016learnpython\n",
      "2017learnpython\n",
      "animal_sounds_graph_project\n",
      "ASD_children_corpus\n",
      "children_texts_corpus\n",
      "computer-science-flash-cards\n",
      "constructicon\n",
      "elmiram.github.io\n",
      "EmotionAnalysisInVideo\n",
      "google-interview-university\n",
      "HarryPotterBot\n",
      "hh-1-1-git-commands\n",
      "hh-1-1-repoA\n",
      "hh-1-1-repoB\n",
      "hh-1-2-frontik-no-testing\n",
      "hh-1-2-frontik-testing\n",
      "hh-1-2-git-commands\n",
      "hh-unix-assignment\n",
      "homework\n",
      "hselingprojects\n",
      "learner_corpus\n",
      "logo_compiler\n",
      "pythonvjs\n",
      "riichicount\n",
      "RusDisamb\n",
      "russian_learner_corpus\n",
      "RusTokenizer\n",
      "seq2seq_chatbot\n",
      "txt2prs\n"
     ]
    }
   ],
   "source": [
    "import json\n",
    "import urllib.request\n",
    "\n",
    "user = \"elmiram\"  # пользователь, про которого мы хотим что-то узнать\n",
    "url = 'https://api.github.com/users/%s/repos' % user  \n",
    "# по этой ссылке мы будем доставать джейсон, попробуйте вставить ссылку в браузер и посмотреть, что там\n",
    "\n",
    "response = urllib.request.urlopen(url)  # посылаем серверу запрос и достаем ответ\n",
    "text = response.read().decode('utf-8')  # читаем ответ в строку\n",
    "data = json.loads(text) # превращаем джейсон-строку в объекты питона\n",
    "\n",
    "print(len(data))  # можно распечатать, сколько у пользователя репозиториев\n",
    "for i in data:\n",
    "    print(i[\"name\"]) # и распечатать названия всех репозиториев"
   ]
  },
  {
   "cell_type": "markdown",
   "metadata": {},
   "source": [
    "Я выбрала пользователя `elmiram`."
   ]
  },
  {
   "cell_type": "code",
   "execution_count": 2,
   "metadata": {},
   "outputs": [
    {
     "name": "stdout",
     "output_type": "stream",
     "text": [
      "JavaScript 6\n",
      "Jupyter Notebook 2\n",
      "CSS 1\n",
      "HTML 4\n",
      "Python 10\n",
      "None 5\n",
      "C# 1\n",
      "Shell 1\n"
     ]
    }
   ],
   "source": [
    "dict_lang = {}\n",
    "for i in data:\n",
    "    now_l = i[\"language\"]\n",
    "    if now_l in dict_lang:\n",
    "        dict_lang[now_l]+=1\n",
    "    else:\n",
    "        dict_lang[now_l] = 1\n",
    "for lang in dict_lang.keys():\n",
    "    print(lang, dict_lang[lang])"
   ]
  },
  {
   "cell_type": "code",
   "execution_count": 13,
   "metadata": {},
   "outputs": [
    {
     "name": "stdout",
     "output_type": "stream",
     "text": [
      "Название репозитория: 19thcentury \n",
      " Описание:  None\n",
      "Название репозитория: 2016learnpython \n",
      " Описание:  Python Teaching, Seminars for 2nd year students of School of Linguistics NRU HSE\n",
      "Название репозитория: 2017learnpython \n",
      " Описание:  Python Teaching, Seminars for 3rd year students of School of Linguistics NRU HSE\n",
      "Название репозитория: animal_sounds_graph_project \n",
      " Описание:  None\n",
      "Название репозитория: ASD_children_corpus \n",
      " Описание:  None\n",
      "Название репозитория: children_texts_corpus \n",
      " Описание:  StartWrit corpus is a collection of texts written by elementary school children.\n",
      "Название репозитория: computer-science-flash-cards \n",
      " Описание:  Mini website for testing both general CS knowledge and enforce coding practice and common algorithm/data structure memorization.\n",
      "Название репозитория: constructicon \n",
      " Описание:  None\n",
      "Название репозитория: elmiram.github.io \n",
      " Описание:  Resume\n",
      "Название репозитория: EmotionAnalysisInVideo \n",
      " Описание:  Tracker of basic emotions of a movie character built with Microsoft Computer Vision Services\n",
      "Название репозитория: google-interview-university \n",
      " Описание:  A complete daily plan for studying to become a Google software engineer.\n",
      "Название репозитория: HarryPotterBot \n",
      " Описание:  Bot uses words from Harry Potter books to generate phases.\n",
      "Название репозитория: hh-1-1-git-commands \n",
      " Описание:  None\n",
      "Название репозитория: hh-1-1-repoA \n",
      " Описание:  None\n",
      "Название репозитория: hh-1-1-repoB \n",
      " Описание:  None\n",
      "Название репозитория: hh-1-2-frontik-no-testing \n",
      " Описание:  None\n",
      "Название репозитория: hh-1-2-frontik-testing \n",
      " Описание:  None\n",
      "Название репозитория: hh-1-2-git-commands \n",
      " Описание:  None\n",
      "Название репозитория: hh-unix-assignment \n",
      " Описание:  None\n",
      "Название репозитория: homework \n",
      " Описание:  this is programming homework\n",
      "Название репозитория: hselingprojects \n",
      " Описание:  Website to showcase projects that are developed at School of Linguistics\n",
      "Название репозитория: learner_corpus \n",
      " Описание:  None\n",
      "Название репозитория: logo_compiler \n",
      " Описание:  None\n",
      "Название репозитория: pythonvjs \n",
      " Описание:  Python versus JS: comparative tables\n",
      "Название репозитория: riichicount \n",
      " Описание:  Riichi mahjong: test on hand cost calculation. riichicount.pythonanywhere.com\n",
      "Название репозитория: RusDisamb \n",
      " Описание:  Scripts for disambiguation workshop\n",
      "Название репозитория: russian_learner_corpus \n",
      " Описание:  Russian Learner Corpus, a platform for corpus search and annotation\n",
      "Название репозитория: RusTokenizer \n",
      " Описание:  Splitter and tokenizer for Russian\n",
      "Название репозитория: seq2seq_chatbot \n",
      " Описание:  Sequence-to-Sequence chatbot using tensorflow\n",
      "Название репозитория: txt2prs \n",
      " Описание:  txt2prs\n"
     ]
    }
   ],
   "source": [
    "for i in data:\n",
    "    print('Название репозитория:',i[\"name\"],'\\n','Описание: ', i[\"description\"])"
   ]
  },
  {
   "cell_type": "code",
   "execution_count": 14,
   "metadata": {},
   "outputs": [
    {
     "name": "stdout",
     "output_type": "stream",
     "text": [
      "29\n"
     ]
    }
   ],
   "source": [
    "url2 = 'https://api.github.com/users/elmiram/followers'  \n",
    "\n",
    "response = urllib.request.urlopen(url2)  # посылаем серверу запрос и достаем ответ\n",
    "text2 = response.read().decode('utf-8')  # читаем ответ в строку\n",
    "data2 = json.loads(text2) # превращаем джейсон-строку в объекты питона\n",
    "\n",
    "print(len(data2))  # можно распечатать, сколько у пользователя репозиториев\n",
    " # и распечатать названия всех репозиториев"
   ]
  },
  {
   "cell_type": "code",
   "execution_count": 15,
   "metadata": {},
   "outputs": [
    {
     "name": "stdout",
     "output_type": "stream",
     "text": [
      "[{'login': 'lizaku', 'id': 7359847, 'node_id': 'MDQ6VXNlcjczNTk4NDc=', 'avatar_url': 'https://avatars2.githubusercontent.com/u/7359847?v=4', 'gravatar_id': '', 'url': 'https://api.github.com/users/lizaku', 'html_url': 'https://github.com/lizaku', 'followers_url': 'https://api.github.com/users/lizaku/followers', 'following_url': 'https://api.github.com/users/lizaku/following{/other_user}', 'gists_url': 'https://api.github.com/users/lizaku/gists{/gist_id}', 'starred_url': 'https://api.github.com/users/lizaku/starred{/owner}{/repo}', 'subscriptions_url': 'https://api.github.com/users/lizaku/subscriptions', 'organizations_url': 'https://api.github.com/users/lizaku/orgs', 'repos_url': 'https://api.github.com/users/lizaku/repos', 'events_url': 'https://api.github.com/users/lizaku/events{/privacy}', 'received_events_url': 'https://api.github.com/users/lizaku/received_events', 'type': 'User', 'site_admin': False}, {'login': 'anta', 'id': 160209, 'node_id': 'MDQ6VXNlcjE2MDIwOQ==', 'avatar_url': 'https://avatars3.githubusercontent.com/u/160209?v=4', 'gravatar_id': '', 'url': 'https://api.github.com/users/anta', 'html_url': 'https://github.com/anta', 'followers_url': 'https://api.github.com/users/anta/followers', 'following_url': 'https://api.github.com/users/anta/following{/other_user}', 'gists_url': 'https://api.github.com/users/anta/gists{/gist_id}', 'starred_url': 'https://api.github.com/users/anta/starred{/owner}{/repo}', 'subscriptions_url': 'https://api.github.com/users/anta/subscriptions', 'organizations_url': 'https://api.github.com/users/anta/orgs', 'repos_url': 'https://api.github.com/users/anta/repos', 'events_url': 'https://api.github.com/users/anta/events{/privacy}', 'received_events_url': 'https://api.github.com/users/anta/received_events', 'type': 'User', 'site_admin': False}, {'login': 'rudinaolga', 'id': 19799308, 'node_id': 'MDQ6VXNlcjE5Nzk5MzA4', 'avatar_url': 'https://avatars3.githubusercontent.com/u/19799308?v=4', 'gravatar_id': '', 'url': 'https://api.github.com/users/rudinaolga', 'html_url': 'https://github.com/rudinaolga', 'followers_url': 'https://api.github.com/users/rudinaolga/followers', 'following_url': 'https://api.github.com/users/rudinaolga/following{/other_user}', 'gists_url': 'https://api.github.com/users/rudinaolga/gists{/gist_id}', 'starred_url': 'https://api.github.com/users/rudinaolga/starred{/owner}{/repo}', 'subscriptions_url': 'https://api.github.com/users/rudinaolga/subscriptions', 'organizations_url': 'https://api.github.com/users/rudinaolga/orgs', 'repos_url': 'https://api.github.com/users/rudinaolga/repos', 'events_url': 'https://api.github.com/users/rudinaolga/events{/privacy}', 'received_events_url': 'https://api.github.com/users/rudinaolga/received_events', 'type': 'User', 'site_admin': False}, {'login': 'sukalov', 'id': 19799331, 'node_id': 'MDQ6VXNlcjE5Nzk5MzMx', 'avatar_url': 'https://avatars0.githubusercontent.com/u/19799331?v=4', 'gravatar_id': '', 'url': 'https://api.github.com/users/sukalov', 'html_url': 'https://github.com/sukalov', 'followers_url': 'https://api.github.com/users/sukalov/followers', 'following_url': 'https://api.github.com/users/sukalov/following{/other_user}', 'gists_url': 'https://api.github.com/users/sukalov/gists{/gist_id}', 'starred_url': 'https://api.github.com/users/sukalov/starred{/owner}{/repo}', 'subscriptions_url': 'https://api.github.com/users/sukalov/subscriptions', 'organizations_url': 'https://api.github.com/users/sukalov/orgs', 'repos_url': 'https://api.github.com/users/sukalov/repos', 'events_url': 'https://api.github.com/users/sukalov/events{/privacy}', 'received_events_url': 'https://api.github.com/users/sukalov/received_events', 'type': 'User', 'site_admin': False}, {'login': 'euetova', 'id': 17108455, 'node_id': 'MDQ6VXNlcjE3MTA4NDU1', 'avatar_url': 'https://avatars3.githubusercontent.com/u/17108455?v=4', 'gravatar_id': '', 'url': 'https://api.github.com/users/euetova', 'html_url': 'https://github.com/euetova', 'followers_url': 'https://api.github.com/users/euetova/followers', 'following_url': 'https://api.github.com/users/euetova/following{/other_user}', 'gists_url': 'https://api.github.com/users/euetova/gists{/gist_id}', 'starred_url': 'https://api.github.com/users/euetova/starred{/owner}{/repo}', 'subscriptions_url': 'https://api.github.com/users/euetova/subscriptions', 'organizations_url': 'https://api.github.com/users/euetova/orgs', 'repos_url': 'https://api.github.com/users/euetova/repos', 'events_url': 'https://api.github.com/users/euetova/events{/privacy}', 'received_events_url': 'https://api.github.com/users/euetova/received_events', 'type': 'User', 'site_admin': False}, {'login': 'Nyay', 'id': 19835117, 'node_id': 'MDQ6VXNlcjE5ODM1MTE3', 'avatar_url': 'https://avatars2.githubusercontent.com/u/19835117?v=4', 'gravatar_id': '', 'url': 'https://api.github.com/users/Nyay', 'html_url': 'https://github.com/Nyay', 'followers_url': 'https://api.github.com/users/Nyay/followers', 'following_url': 'https://api.github.com/users/Nyay/following{/other_user}', 'gists_url': 'https://api.github.com/users/Nyay/gists{/gist_id}', 'starred_url': 'https://api.github.com/users/Nyay/starred{/owner}{/repo}', 'subscriptions_url': 'https://api.github.com/users/Nyay/subscriptions', 'organizations_url': 'https://api.github.com/users/Nyay/orgs', 'repos_url': 'https://api.github.com/users/Nyay/repos', 'events_url': 'https://api.github.com/users/Nyay/events{/privacy}', 'received_events_url': 'https://api.github.com/users/Nyay/received_events', 'type': 'User', 'site_admin': False}, {'login': 'c13', 'id': 1741510, 'node_id': 'MDQ6VXNlcjE3NDE1MTA=', 'avatar_url': 'https://avatars2.githubusercontent.com/u/1741510?v=4', 'gravatar_id': '', 'url': 'https://api.github.com/users/c13', 'html_url': 'https://github.com/c13', 'followers_url': 'https://api.github.com/users/c13/followers', 'following_url': 'https://api.github.com/users/c13/following{/other_user}', 'gists_url': 'https://api.github.com/users/c13/gists{/gist_id}', 'starred_url': 'https://api.github.com/users/c13/starred{/owner}{/repo}', 'subscriptions_url': 'https://api.github.com/users/c13/subscriptions', 'organizations_url': 'https://api.github.com/users/c13/orgs', 'repos_url': 'https://api.github.com/users/c13/repos', 'events_url': 'https://api.github.com/users/c13/events{/privacy}', 'received_events_url': 'https://api.github.com/users/c13/received_events', 'type': 'User', 'site_admin': False}, {'login': 'Namakanova', 'id': 22071566, 'node_id': 'MDQ6VXNlcjIyMDcxNTY2', 'avatar_url': 'https://avatars3.githubusercontent.com/u/22071566?v=4', 'gravatar_id': '', 'url': 'https://api.github.com/users/Namakanova', 'html_url': 'https://github.com/Namakanova', 'followers_url': 'https://api.github.com/users/Namakanova/followers', 'following_url': 'https://api.github.com/users/Namakanova/following{/other_user}', 'gists_url': 'https://api.github.com/users/Namakanova/gists{/gist_id}', 'starred_url': 'https://api.github.com/users/Namakanova/starred{/owner}{/repo}', 'subscriptions_url': 'https://api.github.com/users/Namakanova/subscriptions', 'organizations_url': 'https://api.github.com/users/Namakanova/orgs', 'repos_url': 'https://api.github.com/users/Namakanova/repos', 'events_url': 'https://api.github.com/users/Namakanova/events{/privacy}', 'received_events_url': 'https://api.github.com/users/Namakanova/received_events', 'type': 'User', 'site_admin': False}, {'login': 'melanoya', 'id': 16153696, 'node_id': 'MDQ6VXNlcjE2MTUzNjk2', 'avatar_url': 'https://avatars0.githubusercontent.com/u/16153696?v=4', 'gravatar_id': '', 'url': 'https://api.github.com/users/melanoya', 'html_url': 'https://github.com/melanoya', 'followers_url': 'https://api.github.com/users/melanoya/followers', 'following_url': 'https://api.github.com/users/melanoya/following{/other_user}', 'gists_url': 'https://api.github.com/users/melanoya/gists{/gist_id}', 'starred_url': 'https://api.github.com/users/melanoya/starred{/owner}{/repo}', 'subscriptions_url': 'https://api.github.com/users/melanoya/subscriptions', 'organizations_url': 'https://api.github.com/users/melanoya/orgs', 'repos_url': 'https://api.github.com/users/melanoya/repos', 'events_url': 'https://api.github.com/users/melanoya/events{/privacy}', 'received_events_url': 'https://api.github.com/users/melanoya/received_events', 'type': 'User', 'site_admin': False}, {'login': 'alexvinyar', 'id': 26285452, 'node_id': 'MDQ6VXNlcjI2Mjg1NDUy', 'avatar_url': 'https://avatars1.githubusercontent.com/u/26285452?v=4', 'gravatar_id': '', 'url': 'https://api.github.com/users/alexvinyar', 'html_url': 'https://github.com/alexvinyar', 'followers_url': 'https://api.github.com/users/alexvinyar/followers', 'following_url': 'https://api.github.com/users/alexvinyar/following{/other_user}', 'gists_url': 'https://api.github.com/users/alexvinyar/gists{/gist_id}', 'starred_url': 'https://api.github.com/users/alexvinyar/starred{/owner}{/repo}', 'subscriptions_url': 'https://api.github.com/users/alexvinyar/subscriptions', 'organizations_url': 'https://api.github.com/users/alexvinyar/orgs', 'repos_url': 'https://api.github.com/users/alexvinyar/repos', 'events_url': 'https://api.github.com/users/alexvinyar/events{/privacy}', 'received_events_url': 'https://api.github.com/users/alexvinyar/received_events', 'type': 'User', 'site_admin': False}, {'login': 'headshoter13', 'id': 19705803, 'node_id': 'MDQ6VXNlcjE5NzA1ODAz', 'avatar_url': 'https://avatars0.githubusercontent.com/u/19705803?v=4', 'gravatar_id': '', 'url': 'https://api.github.com/users/headshoter13', 'html_url': 'https://github.com/headshoter13', 'followers_url': 'https://api.github.com/users/headshoter13/followers', 'following_url': 'https://api.github.com/users/headshoter13/following{/other_user}', 'gists_url': 'https://api.github.com/users/headshoter13/gists{/gist_id}', 'starred_url': 'https://api.github.com/users/headshoter13/starred{/owner}{/repo}', 'subscriptions_url': 'https://api.github.com/users/headshoter13/subscriptions', 'organizations_url': 'https://api.github.com/users/headshoter13/orgs', 'repos_url': 'https://api.github.com/users/headshoter13/repos', 'events_url': 'https://api.github.com/users/headshoter13/events{/privacy}', 'received_events_url': 'https://api.github.com/users/headshoter13/received_events', 'type': 'User', 'site_admin': False}, {'login': 'agricolamz', 'id': 15956515, 'node_id': 'MDQ6VXNlcjE1OTU2NTE1', 'avatar_url': 'https://avatars1.githubusercontent.com/u/15956515?v=4', 'gravatar_id': '', 'url': 'https://api.github.com/users/agricolamz', 'html_url': 'https://github.com/agricolamz', 'followers_url': 'https://api.github.com/users/agricolamz/followers', 'following_url': 'https://api.github.com/users/agricolamz/following{/other_user}', 'gists_url': 'https://api.github.com/users/agricolamz/gists{/gist_id}', 'starred_url': 'https://api.github.com/users/agricolamz/starred{/owner}{/repo}', 'subscriptions_url': 'https://api.github.com/users/agricolamz/subscriptions', 'organizations_url': 'https://api.github.com/users/agricolamz/orgs', 'repos_url': 'https://api.github.com/users/agricolamz/repos', 'events_url': 'https://api.github.com/users/agricolamz/events{/privacy}', 'received_events_url': 'https://api.github.com/users/agricolamz/received_events', 'type': 'User', 'site_admin': False}, {'login': 'tududundra', 'id': 19800124, 'node_id': 'MDQ6VXNlcjE5ODAwMTI0', 'avatar_url': 'https://avatars1.githubusercontent.com/u/19800124?v=4', 'gravatar_id': '', 'url': 'https://api.github.com/users/tududundra', 'html_url': 'https://github.com/tududundra', 'followers_url': 'https://api.github.com/users/tududundra/followers', 'following_url': 'https://api.github.com/users/tududundra/following{/other_user}', 'gists_url': 'https://api.github.com/users/tududundra/gists{/gist_id}', 'starred_url': 'https://api.github.com/users/tududundra/starred{/owner}{/repo}', 'subscriptions_url': 'https://api.github.com/users/tududundra/subscriptions', 'organizations_url': 'https://api.github.com/users/tududundra/orgs', 'repos_url': 'https://api.github.com/users/tududundra/repos', 'events_url': 'https://api.github.com/users/tududundra/events{/privacy}', 'received_events_url': 'https://api.github.com/users/tududundra/received_events', 'type': 'User', 'site_admin': False}, {'login': 'xenicR', 'id': 19799417, 'node_id': 'MDQ6VXNlcjE5Nzk5NDE3', 'avatar_url': 'https://avatars1.githubusercontent.com/u/19799417?v=4', 'gravatar_id': '', 'url': 'https://api.github.com/users/xenicR', 'html_url': 'https://github.com/xenicR', 'followers_url': 'https://api.github.com/users/xenicR/followers', 'following_url': 'https://api.github.com/users/xenicR/following{/other_user}', 'gists_url': 'https://api.github.com/users/xenicR/gists{/gist_id}', 'starred_url': 'https://api.github.com/users/xenicR/starred{/owner}{/repo}', 'subscriptions_url': 'https://api.github.com/users/xenicR/subscriptions', 'organizations_url': 'https://api.github.com/users/xenicR/orgs', 'repos_url': 'https://api.github.com/users/xenicR/repos', 'events_url': 'https://api.github.com/users/xenicR/events{/privacy}', 'received_events_url': 'https://api.github.com/users/xenicR/received_events', 'type': 'User', 'site_admin': False}, {'login': 'yevgeniylapin', 'id': 18265007, 'node_id': 'MDQ6VXNlcjE4MjY1MDA3', 'avatar_url': 'https://avatars1.githubusercontent.com/u/18265007?v=4', 'gravatar_id': '', 'url': 'https://api.github.com/users/yevgeniylapin', 'html_url': 'https://github.com/yevgeniylapin', 'followers_url': 'https://api.github.com/users/yevgeniylapin/followers', 'following_url': 'https://api.github.com/users/yevgeniylapin/following{/other_user}', 'gists_url': 'https://api.github.com/users/yevgeniylapin/gists{/gist_id}', 'starred_url': 'https://api.github.com/users/yevgeniylapin/starred{/owner}{/repo}', 'subscriptions_url': 'https://api.github.com/users/yevgeniylapin/subscriptions', 'organizations_url': 'https://api.github.com/users/yevgeniylapin/orgs', 'repos_url': 'https://api.github.com/users/yevgeniylapin/repos', 'events_url': 'https://api.github.com/users/yevgeniylapin/events{/privacy}', 'received_events_url': 'https://api.github.com/users/yevgeniylapin/received_events', 'type': 'User', 'site_admin': False}, {'login': 'vekkle', 'id': 28165433, 'node_id': 'MDQ6VXNlcjI4MTY1NDMz', 'avatar_url': 'https://avatars3.githubusercontent.com/u/28165433?v=4', 'gravatar_id': '', 'url': 'https://api.github.com/users/vekkle', 'html_url': 'https://github.com/vekkle', 'followers_url': 'https://api.github.com/users/vekkle/followers', 'following_url': 'https://api.github.com/users/vekkle/following{/other_user}', 'gists_url': 'https://api.github.com/users/vekkle/gists{/gist_id}', 'starred_url': 'https://api.github.com/users/vekkle/starred{/owner}{/repo}', 'subscriptions_url': 'https://api.github.com/users/vekkle/subscriptions', 'organizations_url': 'https://api.github.com/users/vekkle/orgs', 'repos_url': 'https://api.github.com/users/vekkle/repos', 'events_url': 'https://api.github.com/users/vekkle/events{/privacy}', 'received_events_url': 'https://api.github.com/users/vekkle/received_events', 'type': 'User', 'site_admin': False}, {'login': 'atimoshina', 'id': 19799294, 'node_id': 'MDQ6VXNlcjE5Nzk5Mjk0', 'avatar_url': 'https://avatars2.githubusercontent.com/u/19799294?v=4', 'gravatar_id': '', 'url': 'https://api.github.com/users/atimoshina', 'html_url': 'https://github.com/atimoshina', 'followers_url': 'https://api.github.com/users/atimoshina/followers', 'following_url': 'https://api.github.com/users/atimoshina/following{/other_user}', 'gists_url': 'https://api.github.com/users/atimoshina/gists{/gist_id}', 'starred_url': 'https://api.github.com/users/atimoshina/starred{/owner}{/repo}', 'subscriptions_url': 'https://api.github.com/users/atimoshina/subscriptions', 'organizations_url': 'https://api.github.com/users/atimoshina/orgs', 'repos_url': 'https://api.github.com/users/atimoshina/repos', 'events_url': 'https://api.github.com/users/atimoshina/events{/privacy}', 'received_events_url': 'https://api.github.com/users/atimoshina/received_events', 'type': 'User', 'site_admin': False}, {'login': 'evgeniyamiller', 'id': 20183672, 'node_id': 'MDQ6VXNlcjIwMTgzNjcy', 'avatar_url': 'https://avatars0.githubusercontent.com/u/20183672?v=4', 'gravatar_id': '', 'url': 'https://api.github.com/users/evgeniyamiller', 'html_url': 'https://github.com/evgeniyamiller', 'followers_url': 'https://api.github.com/users/evgeniyamiller/followers', 'following_url': 'https://api.github.com/users/evgeniyamiller/following{/other_user}', 'gists_url': 'https://api.github.com/users/evgeniyamiller/gists{/gist_id}', 'starred_url': 'https://api.github.com/users/evgeniyamiller/starred{/owner}{/repo}', 'subscriptions_url': 'https://api.github.com/users/evgeniyamiller/subscriptions', 'organizations_url': 'https://api.github.com/users/evgeniyamiller/orgs', 'repos_url': 'https://api.github.com/users/evgeniyamiller/repos', 'events_url': 'https://api.github.com/users/evgeniyamiller/events{/privacy}', 'received_events_url': 'https://api.github.com/users/evgeniyamiller/received_events', 'type': 'User', 'site_admin': False}, {'login': 'Sokureo', 'id': 17686910, 'node_id': 'MDQ6VXNlcjE3Njg2OTEw', 'avatar_url': 'https://avatars2.githubusercontent.com/u/17686910?v=4', 'gravatar_id': '', 'url': 'https://api.github.com/users/Sokureo', 'html_url': 'https://github.com/Sokureo', 'followers_url': 'https://api.github.com/users/Sokureo/followers', 'following_url': 'https://api.github.com/users/Sokureo/following{/other_user}', 'gists_url': 'https://api.github.com/users/Sokureo/gists{/gist_id}', 'starred_url': 'https://api.github.com/users/Sokureo/starred{/owner}{/repo}', 'subscriptions_url': 'https://api.github.com/users/Sokureo/subscriptions', 'organizations_url': 'https://api.github.com/users/Sokureo/orgs', 'repos_url': 'https://api.github.com/users/Sokureo/repos', 'events_url': 'https://api.github.com/users/Sokureo/events{/privacy}', 'received_events_url': 'https://api.github.com/users/Sokureo/received_events', 'type': 'User', 'site_admin': False}, {'login': 'alexfromvl', 'id': 10322267, 'node_id': 'MDQ6VXNlcjEwMzIyMjY3', 'avatar_url': 'https://avatars3.githubusercontent.com/u/10322267?v=4', 'gravatar_id': '', 'url': 'https://api.github.com/users/alexfromvl', 'html_url': 'https://github.com/alexfromvl', 'followers_url': 'https://api.github.com/users/alexfromvl/followers', 'following_url': 'https://api.github.com/users/alexfromvl/following{/other_user}', 'gists_url': 'https://api.github.com/users/alexfromvl/gists{/gist_id}', 'starred_url': 'https://api.github.com/users/alexfromvl/starred{/owner}{/repo}', 'subscriptions_url': 'https://api.github.com/users/alexfromvl/subscriptions', 'organizations_url': 'https://api.github.com/users/alexfromvl/orgs', 'repos_url': 'https://api.github.com/users/alexfromvl/repos', 'events_url': 'https://api.github.com/users/alexfromvl/events{/privacy}', 'received_events_url': 'https://api.github.com/users/alexfromvl/received_events', 'type': 'User', 'site_admin': False}, {'login': 'immater1um', 'id': 29888936, 'node_id': 'MDQ6VXNlcjI5ODg4OTM2', 'avatar_url': 'https://avatars2.githubusercontent.com/u/29888936?v=4', 'gravatar_id': '', 'url': 'https://api.github.com/users/immater1um', 'html_url': 'https://github.com/immater1um', 'followers_url': 'https://api.github.com/users/immater1um/followers', 'following_url': 'https://api.github.com/users/immater1um/following{/other_user}', 'gists_url': 'https://api.github.com/users/immater1um/gists{/gist_id}', 'starred_url': 'https://api.github.com/users/immater1um/starred{/owner}{/repo}', 'subscriptions_url': 'https://api.github.com/users/immater1um/subscriptions', 'organizations_url': 'https://api.github.com/users/immater1um/orgs', 'repos_url': 'https://api.github.com/users/immater1um/repos', 'events_url': 'https://api.github.com/users/immater1um/events{/privacy}', 'received_events_url': 'https://api.github.com/users/immater1um/received_events', 'type': 'User', 'site_admin': False}, {'login': 'ancatmara', 'id': 15746067, 'node_id': 'MDQ6VXNlcjE1NzQ2MDY3', 'avatar_url': 'https://avatars2.githubusercontent.com/u/15746067?v=4', 'gravatar_id': '', 'url': 'https://api.github.com/users/ancatmara', 'html_url': 'https://github.com/ancatmara', 'followers_url': 'https://api.github.com/users/ancatmara/followers', 'following_url': 'https://api.github.com/users/ancatmara/following{/other_user}', 'gists_url': 'https://api.github.com/users/ancatmara/gists{/gist_id}', 'starred_url': 'https://api.github.com/users/ancatmara/starred{/owner}{/repo}', 'subscriptions_url': 'https://api.github.com/users/ancatmara/subscriptions', 'organizations_url': 'https://api.github.com/users/ancatmara/orgs', 'repos_url': 'https://api.github.com/users/ancatmara/repos', 'events_url': 'https://api.github.com/users/ancatmara/events{/privacy}', 'received_events_url': 'https://api.github.com/users/ancatmara/received_events', 'type': 'User', 'site_admin': False}, {'login': 'sadov-m', 'id': 14205195, 'node_id': 'MDQ6VXNlcjE0MjA1MTk1', 'avatar_url': 'https://avatars0.githubusercontent.com/u/14205195?v=4', 'gravatar_id': '', 'url': 'https://api.github.com/users/sadov-m', 'html_url': 'https://github.com/sadov-m', 'followers_url': 'https://api.github.com/users/sadov-m/followers', 'following_url': 'https://api.github.com/users/sadov-m/following{/other_user}', 'gists_url': 'https://api.github.com/users/sadov-m/gists{/gist_id}', 'starred_url': 'https://api.github.com/users/sadov-m/starred{/owner}{/repo}', 'subscriptions_url': 'https://api.github.com/users/sadov-m/subscriptions', 'organizations_url': 'https://api.github.com/users/sadov-m/orgs', 'repos_url': 'https://api.github.com/users/sadov-m/repos', 'events_url': 'https://api.github.com/users/sadov-m/events{/privacy}', 'received_events_url': 'https://api.github.com/users/sadov-m/received_events', 'type': 'User', 'site_admin': False}, {'login': 'SystemOdmin', 'id': 22026281, 'node_id': 'MDQ6VXNlcjIyMDI2Mjgx', 'avatar_url': 'https://avatars3.githubusercontent.com/u/22026281?v=4', 'gravatar_id': '', 'url': 'https://api.github.com/users/SystemOdmin', 'html_url': 'https://github.com/SystemOdmin', 'followers_url': 'https://api.github.com/users/SystemOdmin/followers', 'following_url': 'https://api.github.com/users/SystemOdmin/following{/other_user}', 'gists_url': 'https://api.github.com/users/SystemOdmin/gists{/gist_id}', 'starred_url': 'https://api.github.com/users/SystemOdmin/starred{/owner}{/repo}', 'subscriptions_url': 'https://api.github.com/users/SystemOdmin/subscriptions', 'organizations_url': 'https://api.github.com/users/SystemOdmin/orgs', 'repos_url': 'https://api.github.com/users/SystemOdmin/repos', 'events_url': 'https://api.github.com/users/SystemOdmin/events{/privacy}', 'received_events_url': 'https://api.github.com/users/SystemOdmin/received_events', 'type': 'User', 'site_admin': False}, {'login': 'SergeyMikhaylov21', 'id': 22280218, 'node_id': 'MDQ6VXNlcjIyMjgwMjE4', 'avatar_url': 'https://avatars2.githubusercontent.com/u/22280218?v=4', 'gravatar_id': '', 'url': 'https://api.github.com/users/SergeyMikhaylov21', 'html_url': 'https://github.com/SergeyMikhaylov21', 'followers_url': 'https://api.github.com/users/SergeyMikhaylov21/followers', 'following_url': 'https://api.github.com/users/SergeyMikhaylov21/following{/other_user}', 'gists_url': 'https://api.github.com/users/SergeyMikhaylov21/gists{/gist_id}', 'starred_url': 'https://api.github.com/users/SergeyMikhaylov21/starred{/owner}{/repo}', 'subscriptions_url': 'https://api.github.com/users/SergeyMikhaylov21/subscriptions', 'organizations_url': 'https://api.github.com/users/SergeyMikhaylov21/orgs', 'repos_url': 'https://api.github.com/users/SergeyMikhaylov21/repos', 'events_url': 'https://api.github.com/users/SergeyMikhaylov21/events{/privacy}', 'received_events_url': 'https://api.github.com/users/SergeyMikhaylov21/received_events', 'type': 'User', 'site_admin': False}, {'login': 'eszakharova', 'id': 19667683, 'node_id': 'MDQ6VXNlcjE5NjY3Njgz', 'avatar_url': 'https://avatars1.githubusercontent.com/u/19667683?v=4', 'gravatar_id': '', 'url': 'https://api.github.com/users/eszakharova', 'html_url': 'https://github.com/eszakharova', 'followers_url': 'https://api.github.com/users/eszakharova/followers', 'following_url': 'https://api.github.com/users/eszakharova/following{/other_user}', 'gists_url': 'https://api.github.com/users/eszakharova/gists{/gist_id}', 'starred_url': 'https://api.github.com/users/eszakharova/starred{/owner}{/repo}', 'subscriptions_url': 'https://api.github.com/users/eszakharova/subscriptions', 'organizations_url': 'https://api.github.com/users/eszakharova/orgs', 'repos_url': 'https://api.github.com/users/eszakharova/repos', 'events_url': 'https://api.github.com/users/eszakharova/events{/privacy}', 'received_events_url': 'https://api.github.com/users/eszakharova/received_events', 'type': 'User', 'site_admin': False}, {'login': 'kartozia', 'id': 20239644, 'node_id': 'MDQ6VXNlcjIwMjM5NjQ0', 'avatar_url': 'https://avatars0.githubusercontent.com/u/20239644?v=4', 'gravatar_id': '', 'url': 'https://api.github.com/users/kartozia', 'html_url': 'https://github.com/kartozia', 'followers_url': 'https://api.github.com/users/kartozia/followers', 'following_url': 'https://api.github.com/users/kartozia/following{/other_user}', 'gists_url': 'https://api.github.com/users/kartozia/gists{/gist_id}', 'starred_url': 'https://api.github.com/users/kartozia/starred{/owner}{/repo}', 'subscriptions_url': 'https://api.github.com/users/kartozia/subscriptions', 'organizations_url': 'https://api.github.com/users/kartozia/orgs', 'repos_url': 'https://api.github.com/users/kartozia/repos', 'events_url': 'https://api.github.com/users/kartozia/events{/privacy}', 'received_events_url': 'https://api.github.com/users/kartozia/received_events', 'type': 'User', 'site_admin': False}, {'login': 'Kakoedlinnoeslovo', 'id': 15382788, 'node_id': 'MDQ6VXNlcjE1MzgyNzg4', 'avatar_url': 'https://avatars1.githubusercontent.com/u/15382788?v=4', 'gravatar_id': '', 'url': 'https://api.github.com/users/Kakoedlinnoeslovo', 'html_url': 'https://github.com/Kakoedlinnoeslovo', 'followers_url': 'https://api.github.com/users/Kakoedlinnoeslovo/followers', 'following_url': 'https://api.github.com/users/Kakoedlinnoeslovo/following{/other_user}', 'gists_url': 'https://api.github.com/users/Kakoedlinnoeslovo/gists{/gist_id}', 'starred_url': 'https://api.github.com/users/Kakoedlinnoeslovo/starred{/owner}{/repo}', 'subscriptions_url': 'https://api.github.com/users/Kakoedlinnoeslovo/subscriptions', 'organizations_url': 'https://api.github.com/users/Kakoedlinnoeslovo/orgs', 'repos_url': 'https://api.github.com/users/Kakoedlinnoeslovo/repos', 'events_url': 'https://api.github.com/users/Kakoedlinnoeslovo/events{/privacy}', 'received_events_url': 'https://api.github.com/users/Kakoedlinnoeslovo/received_events', 'type': 'User', 'site_admin': False}, {'login': 'algerrnon', 'id': 33203465, 'node_id': 'MDQ6VXNlcjMzMjAzNDY1', 'avatar_url': 'https://avatars1.githubusercontent.com/u/33203465?v=4', 'gravatar_id': '', 'url': 'https://api.github.com/users/algerrnon', 'html_url': 'https://github.com/algerrnon', 'followers_url': 'https://api.github.com/users/algerrnon/followers', 'following_url': 'https://api.github.com/users/algerrnon/following{/other_user}', 'gists_url': 'https://api.github.com/users/algerrnon/gists{/gist_id}', 'starred_url': 'https://api.github.com/users/algerrnon/starred{/owner}{/repo}', 'subscriptions_url': 'https://api.github.com/users/algerrnon/subscriptions', 'organizations_url': 'https://api.github.com/users/algerrnon/orgs', 'repos_url': 'https://api.github.com/users/algerrnon/repos', 'events_url': 'https://api.github.com/users/algerrnon/events{/privacy}', 'received_events_url': 'https://api.github.com/users/algerrnon/received_events', 'type': 'User', 'site_admin': False}]\n"
     ]
    }
   ],
   "source": [
    "print(data2)\n"
   ]
  }
 ],
 "metadata": {
  "kernelspec": {
   "display_name": "Python 3",
   "language": "python",
   "name": "python3"
  },
  "language_info": {
   "codemirror_mode": {
    "name": "ipython",
    "version": 3
   },
   "file_extension": ".py",
   "mimetype": "text/x-python",
   "name": "python",
   "nbconvert_exporter": "python",
   "pygments_lexer": "ipython3",
   "version": "3.6.5"
  }
 },
 "nbformat": 4,
 "nbformat_minor": 2
}
